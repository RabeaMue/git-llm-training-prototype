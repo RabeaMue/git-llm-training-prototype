{
 "cells": [
  {
   "cell_type": "markdown",
   "id": "19391e9c-5345-4092-9f2c-7937c35f2564",
   "metadata": {},
   "source": [
    "# Git LLM Training Prototype\n",
    "\n",
    "A retrieval-based QA prototype for personalized Git training using LlamaIndex and Library Carpentry content.\n"
   ]
  },
  {
   "cell_type": "markdown",
   "id": "02bc7444-d401-4e0e-8c72-c706b20d84a5",
   "metadata": {},
   "source": [
    "## Introduction\n",
    "\n",
    "This notebook demonstrates a prototype for a personalized, LLM-assisted Git training system. \n",
    "It uses the [LlamaIndex](https://www.llamaindex.ai/) framework and a small dataset of questions and answers based on the [Library Carpentry Git Lesson](https://librarycarpentry.github.io/lc-git/instructor/aio.html).\n"
   ]
  },
  {
   "cell_type": "code",
   "execution_count": 1,
   "id": "fbcf2d63-f00c-4460-adea-c61a2d6a1705",
   "metadata": {},
   "outputs": [],
   "source": [
    "# Install if needed\n",
    "# !pip install llama-index sentence-transformers"
   ]
  },
  {
   "cell_type": "code",
   "execution_count": null,
   "id": "191892db-6203-4ed2-82b4-0b38416ca112",
   "metadata": {},
   "outputs": [
    {
     "name": "stdout",
     "output_type": "stream",
     "text": [
      "LLM is explicitly disabled. Using MockLLM.\n",
      "Answer: Context information is below.\n",
      "---------------------\n",
      "Q: Why do I need to use 'git add' before 'git commit'?\n",
      "A: 'git add' tells Git which changes you want to include in the next commit. This allows you to control what goes into the project history.\n",
      "\n",
      "Q: What is Git and why is it useful in research?\n",
      "A: Git is a version control system that helps track changes in files. In research, it ensures reproducibility, documents development history, and facilitates collaboration.\n",
      "---------------------\n",
      "Given the context information and not prior knowledge, answer the query.\n",
      "Query: Why do I need to use git add before committing?\n",
      "Answer:\n"
     ]
    },
    {
     "name": "stdin",
     "output_type": "stream",
     "text": [
      "Ask a Git question (or type 'exit'):  What does git commit do\n"
     ]
    },
    {
     "name": "stdout",
     "output_type": "stream",
     "text": [
      "Answer: Context information is below.\n",
      "---------------------\n",
      "Q: Why do I need to use 'git add' before 'git commit'?\n",
      "A: 'git add' tells Git which changes you want to include in the next commit. This allows you to control what goes into the project history.\n",
      "\n",
      "Q: What is Git and why is it useful in research?\n",
      "A: Git is a version control system that helps track changes in files. In research, it ensures reproducibility, documents development history, and facilitates collaboration.\n",
      "---------------------\n",
      "Given the context information and not prior knowledge, answer the query.\n",
      "Query: What does git commit do\n",
      "Answer:\n"
     ]
    },
    {
     "name": "stdin",
     "output_type": "stream",
     "text": [
      "Ask a Git question (or type 'exit'):  What does git commit do?\n"
     ]
    },
    {
     "name": "stdout",
     "output_type": "stream",
     "text": [
      "Answer: Context information is below.\n",
      "---------------------\n",
      "Q: What is Git and why is it useful in research?\n",
      "A: Git is a version control system that helps track changes in files. In research, it ensures reproducibility, documents development history, and facilitates collaboration.\n",
      "\n",
      "Q: Why do I need to use 'git add' before 'git commit'?\n",
      "A: 'git add' tells Git which changes you want to include in the next commit. This allows you to control what goes into the project history.\n",
      "---------------------\n",
      "Given the context information and not prior knowledge, answer the query.\n",
      "Query: What does git commit do?\n",
      "Answer:\n"
     ]
    }
   ],
   "source": [
    "from llama_index.core import VectorStoreIndex, Document, Settings\n",
    "from llama_index.embeddings.huggingface import HuggingFaceEmbedding\n",
    "import json\n",
    "\n",
    "# Load training data\n",
    "with open(\"git_llm_training_data.json\", \"r\") as f:\n",
    "    qa_pairs = json.load(f)\n",
    "\n",
    "# Convert to documents\n",
    "documents = [Document(text=f\"Q: {item['prompt']}\\nA: {item['response']}\") for item in qa_pairs]\n",
    "\n",
    "# Set up embedding model (globally via Settings)\n",
    "embed_model = HuggingFaceEmbedding(model_name=\"sentence-transformers/all-MiniLM-L6-v2\")\n",
    "Settings.embed_model = embed_model\n",
    "Settings.llm = None  # Disable LLM (retrieval only)\n",
    "\n",
    "# Create index and query engine\n",
    "index = VectorStoreIndex.from_documents(documents)\n",
    "query_engine = index.as_query_engine()\n",
    "\n",
    "# Test query\n",
    "response = query_engine.query(\"Why do I need to use git add before committing?\")\n",
    "print(\"Answer:\", response.response.strip())\n",
    "\n",
    "# Interactive query loop (stop with 'exit')\n",
    "while True:\n",
    "    user_input = input(\"Ask a Git question (or type 'exit'): \")\n",
    "    if user_input.lower().strip() == \"exit\":\n",
    "        break\n",
    "    response = query_engine.query(user_input)\n",
    "    print(\"Answer:\", response.response.strip())"
   ]
  },
  {
   "cell_type": "code",
   "execution_count": null,
   "id": "86c92632-2365-4f9a-9984-4a79a586d80d",
   "metadata": {},
   "outputs": [],
   "source": []
  }
 ],
 "metadata": {
  "kernelspec": {
   "display_name": "Python (llm-env)",
   "language": "python",
   "name": "llm-env"
  },
  "language_info": {
   "codemirror_mode": {
    "name": "ipython",
    "version": 3
   },
   "file_extension": ".py",
   "mimetype": "text/x-python",
   "name": "python",
   "nbconvert_exporter": "python",
   "pygments_lexer": "ipython3",
   "version": "3.10.12"
  }
 },
 "nbformat": 4,
 "nbformat_minor": 5
}
